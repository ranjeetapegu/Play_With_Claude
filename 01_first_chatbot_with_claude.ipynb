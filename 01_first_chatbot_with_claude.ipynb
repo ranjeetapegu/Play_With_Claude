{
 "cells": [
  {
   "cell_type": "code",
   "execution_count": 13,
   "metadata": {},
   "outputs": [],
   "source": [
    "#get the libraries \n",
    "from dotenv import load_dotenv\n",
    "load_dotenv()\n",
    "\n",
    "\n",
    "from anthropic import Anthropic \n",
    "\n",
    "client = Anthropic()\n",
    "model = \"claude-sonnet-4-0\""
   ]
  },
  {
   "cell_type": "code",
   "execution_count": 20,
   "metadata": {},
   "outputs": [],
   "source": [
    "def add_user_message(messages,text):\n",
    "    user_message= {\n",
    "        \"role\":\"user\",\n",
    "        \"content\":text  }\n",
    "    messages.append(user_message)\n",
    "\n",
    "def add_assistant_message(messages,text):\n",
    "    assistant_message= {\n",
    "        \"role\":\"assistant\",\n",
    "        \"content\":text  }\n",
    "    messages.append(assistant_message)\n",
    "\n",
    "  \n",
    "\n",
    "\n",
    "def chat(messages):\n",
    "    messages = client.messages.create(\n",
    "        model = model,\n",
    "        max_tokens = 1000,\n",
    "        messages = messages,\n",
    "        )\n",
    "    return messages.content[0].text\n",
    "    "
   ]
  },
  {
   "cell_type": "code",
   "execution_count": 21,
   "metadata": {},
   "outputs": [
    {
     "name": "stdout",
     "output_type": "stream",
     "text": [
      "------\n",
      "1 + 1 = 2\n",
      "--------\n",
      "------\n",
      "2 + 5 = 7\n",
      "--------\n",
      "------\n",
      "7 - 9 = -2\n",
      "--------\n",
      "------\n",
      "-2 × 4 = -8\n",
      "--------\n",
      "------\n",
      "(-8)² = 64\n",
      "--------\n",
      "good bye, Adios\n"
     ]
    }
   ],
   "source": [
    "messages    =[]\n",
    "\n",
    "while True:\n",
    "    #get user input \n",
    "    user_input = input(\"Enter you question (type 'exit' or 'quit' to stop): \")\n",
    "    if user_input.lower() in ['exit', 'quit']:\n",
    "        print('good bye, Adios')\n",
    "        break\n",
    "    \n",
    "    add_user_message(messages,user_input)\n",
    "    answer =  chat(messages)\n",
    "    add_assistant_message(messages,answer)\n",
    "    #Print the gernated code \n",
    "    print(\"------\")\n",
    "    print(answer)\n",
    "    print(\"--------\")\n",
    "\n",
    "\n",
    "    \n"
   ]
  }
 ],
 "metadata": {
  "kernelspec": {
   "display_name": "genv",
   "language": "python",
   "name": "python3"
  },
  "language_info": {
   "codemirror_mode": {
    "name": "ipython",
    "version": 3
   },
   "file_extension": ".py",
   "mimetype": "text/x-python",
   "name": "python",
   "nbconvert_exporter": "python",
   "pygments_lexer": "ipython3",
   "version": "3.10.11"
  }
 },
 "nbformat": 4,
 "nbformat_minor": 4
}
