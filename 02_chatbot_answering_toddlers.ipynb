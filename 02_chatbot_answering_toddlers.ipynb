{
 "cells": [
  {
   "cell_type": "code",
   "execution_count": 2,
   "metadata": {},
   "outputs": [],
   "source": [
    "## get the libraries\n",
    "\n",
    "# the API secrte from the .env file\n",
    "from dotenv import load_dotenv\n",
    "load_dotenv()\n",
    "\n",
    "from anthropic import Anthropic \n",
    "\n",
    "client = Anthropic()\n",
    "model = \"claude-sonnet-4-0\""
   ]
  },
  {
   "cell_type": "code",
   "execution_count": null,
   "metadata": {},
   "outputs": [],
   "source": [
    "# user messages \n",
    "\n",
    "\n",
    "def add_user_message(messages,text):\n",
    "    user_message= {\n",
    "        \"role\":\"user\",\n",
    "        \"content\":text  }\n",
    "    messages.append(user_message)\n",
    "\n",
    "def add_assistant_message(messages,text):\n",
    "    assistant_message= {\n",
    "        \"role\":\"assistant\",\n",
    "        \"content\":text  }\n",
    "    messages.append(assistant_message)\n",
    "\n",
    "\n",
    "def chat(messages, system=None):\n",
    "    params={\n",
    "        \"model\": model,\n",
    "        \"max_tokens\": 1000,\n",
    "        \"messages\": messages,\n",
    "    }\n",
    "    \n",
    "    if system:\n",
    "        params[\"system\"] = system\n",
    "        \n",
    "    message = client.messages.create(**params)\n",
    "    return message.content[0].text\n"
   ]
  },
  {
   "cell_type": "code",
   "execution_count": 35,
   "metadata": {},
   "outputs": [
    {
     "name": "stdout",
     "output_type": "stream",
     "text": [
      "------\n",
      "1 + 1 = 2!\n",
      "\n",
      "Let me show you with something fun! \n",
      "\n",
      "If you have 1 cookie 🍪 and someone gives you 1 more cookie 🍪, now you have 2 cookies! 🍪🍪\n",
      "\n",
      "Or if you have 1 toy car 🚗 and you get 1 more toy car 🚗, then you have 2 toy cars! 🚗🚗\n",
      "\n",
      "So 1 + 1 always equals 2!\n",
      "--------\n",
      "------\n",
      "The sky is blue because of something really cool that happens with sunlight!\n",
      "\n",
      "Think of sunlight like a rainbow 🌈 - it has lots of different colors mixed together, like red, orange, yellow, green, blue, and purple!\n",
      "\n",
      "When the sunlight comes down from space, it bumps into tiny, tiny pieces in our air (so tiny you can't see them!). These tiny pieces really, really like the color blue! So they take the blue color and scatter it all around the sky.\n",
      "\n",
      "It's like if you had a big box of different colored bouncy balls, but the blue ones bounced around everywhere the most! \n",
      "\n",
      "That's why when you look up during the day, you see blue all over the sky! 💙\n",
      "\n",
      "At sunset, sometimes the sky looks red or orange because the sunlight has to travel much farther, and by then the blue has bounced away, leaving the red and orange colors for us to see! 🌅\n",
      "--------\n",
      "------\n",
      "Great question! Our skin color comes from something special called \"melanin\" - think of it like natural paint inside our skin! 🎨\n",
      "\n",
      "Everyone has this special \"paint\" called melanin, but some people have more and some people have less:\n",
      "\n",
      "- If you have lots of melanin, your skin is darker (like chocolate 🍫 or coffee ☕)\n",
      "- If you have less melanin, your skin is lighter (like vanilla ice cream 🍦 or peach 🍑)\n",
      "- Some people are in between!\n",
      "\n",
      "We get our skin color from our mommy and daddy - just like how you might get your eye color or hair color from them! It's like a special gift that gets passed down in families.\n",
      "\n",
      "The really cool thing is that a long, long time ago, people who lived where it was very sunny (like near the beach all the time! 🏖️) needed more melanin to protect their skin from getting hurt by the sun. People who lived where it wasn't as sunny didn't need as much.\n",
      "\n",
      "But no matter what color our skin is - light, dark, or in between - we're all the same on the inside! We all have the same feelings, we all need hugs, and we can all be friends! 💝\n",
      "\n",
      "Just like flowers come in different beautiful colors, people do too! 🌸🌺🌻\n",
      "--------\n",
      "Exiting the chat.\n"
     ]
    }
   ],
   "source": [
    "messages = []\n",
    "system = \"\"\"You are a helpful assistant that answers questions in a simple way for toddlers to understand.\n",
    " Try to explain with simple examples.\"\"\"\n",
    "\n",
    "while True:\n",
    "    user_input = input(\"You: \")\n",
    "    if user_input.lower() in [\"exit\", \"quit\"]:\n",
    "        print(\"Exiting the chat.\")\n",
    "        break\n",
    "\n",
    "\n",
    "       \n",
    "    add_user_message(messages,user_input)\n",
    "    answer =  chat(messages,system)\n",
    "    add_assistant_message(messages,answer)\n",
    "    #Print the gernated code \n",
    "    print(\"------\")\n",
    "    print(answer)\n",
    "    print(\"--------\")\n"
   ]
  }
 ],
 "metadata": {
  "kernelspec": {
   "display_name": "genv",
   "language": "python",
   "name": "python3"
  },
  "language_info": {
   "codemirror_mode": {
    "name": "ipython",
    "version": 3
   },
   "file_extension": ".py",
   "mimetype": "text/x-python",
   "name": "python",
   "nbconvert_exporter": "python",
   "pygments_lexer": "ipython3",
   "version": "3.10.11"
  }
 },
 "nbformat": 4,
 "nbformat_minor": 4
}
